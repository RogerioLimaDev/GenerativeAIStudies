{
  "nbformat": 4,
  "nbformat_minor": 0,
  "metadata": {
    "colab": {
      "provenance": [],
      "authorship_tag": "ABX9TyMfk1DyU/YgCefyBSIf+icR",
      "include_colab_link": true
    },
    "kernelspec": {
      "name": "python3",
      "display_name": "Python 3"
    },
    "language_info": {
      "name": "python"
    }
  },
  "cells": [
    {
      "cell_type": "markdown",
      "metadata": {
        "id": "view-in-github",
        "colab_type": "text"
      },
      "source": [
        "<a href=\"https://colab.research.google.com/github/RogerioLimaDev/GenerativeAIStudies/blob/main/Gemini_ImersaoAlura.ipynb\" target=\"_parent\"><img src=\"https://colab.research.google.com/assets/colab-badge.svg\" alt=\"Open In Colab\"/></a>"
      ]
    },
    {
      "cell_type": "code",
      "execution_count": 1,
      "metadata": {
        "id": "ZJ4YeTR2uLfY"
      },
      "outputs": [],
      "source": [
        "pip install -q -U google-generativeai"
      ]
    },
    {
      "cell_type": "code",
      "source": [
        "import google.generativeai as genai"
      ],
      "metadata": {
        "id": "JasiCSnOwiQd"
      },
      "execution_count": 3,
      "outputs": []
    },
    {
      "cell_type": "code",
      "source": [
        "from google.colab import userdata"
      ],
      "metadata": {
        "id": "aLRyouIHwniF"
      },
      "execution_count": 7,
      "outputs": []
    },
    {
      "cell_type": "code",
      "source": [
        "GOOGLE_API_KEY=userdata.get('GOOGLE_API_KEY')"
      ],
      "metadata": {
        "id": "bI2v6ivLxgXF"
      },
      "execution_count": 9,
      "outputs": []
    },
    {
      "cell_type": "code",
      "source": [
        "genai.configure(api_key=GOOGLE_API_KEY)"
      ],
      "metadata": {
        "id": "iiqQ9Y5jyWpt"
      },
      "execution_count": 10,
      "outputs": []
    },
    {
      "cell_type": "code",
      "source": [
        "model=genai.GenerativeModel('gemini-pro')"
      ],
      "metadata": {
        "id": "Yf4YRsEq0kqO"
      },
      "execution_count": 11,
      "outputs": []
    },
    {
      "cell_type": "code",
      "source": [
        "content=model.generate_content(\"Me dê dicas de como melhorar minhas chances de conseguir um emprego como unity developer\")"
      ],
      "metadata": {
        "id": "SVy84CeL1Fbc"
      },
      "execution_count": 12,
      "outputs": []
    },
    {
      "cell_type": "code",
      "source": [
        "print(content)"
      ],
      "metadata": {
        "colab": {
          "base_uri": "https://localhost:8080/"
        },
        "id": "K3ManXWY1Zu-",
        "outputId": "e6181caa-2cd1-4546-eda6-a05d8f728e83"
      },
      "execution_count": 13,
      "outputs": [
        {
          "output_type": "stream",
          "name": "stdout",
          "text": [
            "response:\n",
            "GenerateContentResponse(\n",
            "    done=True,\n",
            "    iterator=None,\n",
            "    result=glm.GenerateContentResponse({'candidates': [{'content': {'parts': [{'text': '**Desenvolva habilidades técnicas sólidas:**\\n\\n* Domine o Unity Game Engine e seus componentes principais (por exemplo, C#, mecânica de jogo, renderização)\\n* Familiarize-se com linguagens de programação relacionadas (por exemplo, C#, JavaScript)\\n* Ganhe experiência prática em desenvolvimento de jogos com o Unity\\n* Obtenha certificações relevantes do Unity (por exemplo, Certificado de Associado em Desenvolvimento de Jogos do Unity)\\n\\n**Aprimore suas habilidades interpessoais e de comunicação:**\\n\\n* Desenvolva excelentes habilidades de comunicação escrita e verbal\\n* Demonstre habilidades eficazes de trabalho em equipe e colaboração\\n* Construa relacionamentos com profissionais do setor por meio de redes e mentores\\n\\n**Crie um portfólio impressionante:**\\n\\n* Mostre seus melhores projetos de desenvolvimento de jogos com o Unity\\n* Inclua uma variedade de projetos que demonstrem suas habilidades em diferentes aspectos do desenvolvimento de jogos\\n* Destaque seus jogos mais inovadores e bem projetados\\n\\n**Otimize seu currículo e carta de apresentação:**\\n\\n* Adapte seu currículo e carta de apresentação a cada vaga de emprego que você se candidatar\\n* Enfatize suas habilidades e experiências relevantes para o cargo\\n* Quantifique suas realizações sempre que possível (por exemplo, \"Desenvolvi um jogo que alcançou mais de 100.000 downloads\")\\n\\n**Faça networking e busque oportunidades:**\\n\\n* Participe de eventos do setor, como conferências e meetups\\n* Conecte-se com recrutadores e gerentes de contratação no LinkedIn e outras plataformas\\n* Procure programas de estágio ou aprendizado que ofereçam experiência prática\\n\\n**Outras dicas:**\\n\\n* Pratique suas habilidades de resolução de problemas por meio da codificação ou da participação em competições de hacking\\n* Mantenha-se atualizado com as últimas tendências e tecnologias de desenvolvimento de jogos\\n* Seja apaixonado por desenvolvimento de jogos e demonstre isso em suas entrevistas'}], 'role': 'model'}, 'finish_reason': 1, 'index': 0, 'safety_ratings': [{'category': 9, 'probability': 1, 'blocked': False}, {'category': 8, 'probability': 1, 'blocked': False}, {'category': 7, 'probability': 1, 'blocked': False}, {'category': 10, 'probability': 1, 'blocked': False}], 'token_count': 0, 'grounding_attributions': []}]}),\n",
            ")\n"
          ]
        }
      ]
    },
    {
      "cell_type": "code",
      "source": [
        "print(content.text)"
      ],
      "metadata": {
        "colab": {
          "base_uri": "https://localhost:8080/"
        },
        "id": "lo-hXjIN12LH",
        "outputId": "d57a4139-4ddc-4145-9798-9bf008d9c487"
      },
      "execution_count": 15,
      "outputs": [
        {
          "output_type": "stream",
          "name": "stdout",
          "text": [
            "**Desenvolva habilidades técnicas sólidas:**\n",
            "\n",
            "* Domine o Unity Game Engine e seus componentes principais (por exemplo, C#, mecânica de jogo, renderização)\n",
            "* Familiarize-se com linguagens de programação relacionadas (por exemplo, C#, JavaScript)\n",
            "* Ganhe experiência prática em desenvolvimento de jogos com o Unity\n",
            "* Obtenha certificações relevantes do Unity (por exemplo, Certificado de Associado em Desenvolvimento de Jogos do Unity)\n",
            "\n",
            "**Aprimore suas habilidades interpessoais e de comunicação:**\n",
            "\n",
            "* Desenvolva excelentes habilidades de comunicação escrita e verbal\n",
            "* Demonstre habilidades eficazes de trabalho em equipe e colaboração\n",
            "* Construa relacionamentos com profissionais do setor por meio de redes e mentores\n",
            "\n",
            "**Crie um portfólio impressionante:**\n",
            "\n",
            "* Mostre seus melhores projetos de desenvolvimento de jogos com o Unity\n",
            "* Inclua uma variedade de projetos que demonstrem suas habilidades em diferentes aspectos do desenvolvimento de jogos\n",
            "* Destaque seus jogos mais inovadores e bem projetados\n",
            "\n",
            "**Otimize seu currículo e carta de apresentação:**\n",
            "\n",
            "* Adapte seu currículo e carta de apresentação a cada vaga de emprego que você se candidatar\n",
            "* Enfatize suas habilidades e experiências relevantes para o cargo\n",
            "* Quantifique suas realizações sempre que possível (por exemplo, \"Desenvolvi um jogo que alcançou mais de 100.000 downloads\")\n",
            "\n",
            "**Faça networking e busque oportunidades:**\n",
            "\n",
            "* Participe de eventos do setor, como conferências e meetups\n",
            "* Conecte-se com recrutadores e gerentes de contratação no LinkedIn e outras plataformas\n",
            "* Procure programas de estágio ou aprendizado que ofereçam experiência prática\n",
            "\n",
            "**Outras dicas:**\n",
            "\n",
            "* Pratique suas habilidades de resolução de problemas por meio da codificação ou da participação em competições de hacking\n",
            "* Mantenha-se atualizado com as últimas tendências e tecnologias de desenvolvimento de jogos\n",
            "* Seja apaixonado por desenvolvimento de jogos e demonstre isso em suas entrevistas\n"
          ]
        }
      ]
    },
    {
      "cell_type": "code",
      "source": [],
      "metadata": {
        "id": "TMzyLTny2F9m"
      },
      "execution_count": null,
      "outputs": []
    }
  ]
}