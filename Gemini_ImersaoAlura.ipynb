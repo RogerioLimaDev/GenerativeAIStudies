{
  "nbformat": 4,
  "nbformat_minor": 0,
  "metadata": {
    "colab": {
      "provenance": [],
      "authorship_tag": "ABX9TyM8/UBHDxVD8i9bVE8FB2/v",
      "include_colab_link": true
    },
    "kernelspec": {
      "name": "python3",
      "display_name": "Python 3"
    },
    "language_info": {
      "name": "python"
    }
  },
  "cells": [
    {
      "cell_type": "markdown",
      "metadata": {
        "id": "view-in-github",
        "colab_type": "text"
      },
      "source": [
        "<a href=\"https://colab.research.google.com/github/RogerioLimaDev/GenerativeAIStudies/blob/main/Gemini_ImersaoAlura.ipynb\" target=\"_parent\"><img src=\"https://colab.research.google.com/assets/colab-badge.svg\" alt=\"Open In Colab\"/></a>"
      ]
    },
    {
      "cell_type": "code",
      "execution_count": 41,
      "metadata": {
        "id": "ZJ4YeTR2uLfY"
      },
      "outputs": [],
      "source": [
        "pip install -q -U google-generativeai"
      ]
    },
    {
      "cell_type": "code",
      "source": [
        "import google.generativeai as genai"
      ],
      "metadata": {
        "id": "JasiCSnOwiQd"
      },
      "execution_count": 42,
      "outputs": []
    },
    {
      "cell_type": "code",
      "source": [
        "from google.colab import userdata"
      ],
      "metadata": {
        "id": "aLRyouIHwniF"
      },
      "execution_count": 43,
      "outputs": []
    },
    {
      "cell_type": "code",
      "source": [
        "GOOGLE_API_KEY=userdata.get('GOOGLE_API_KEY')"
      ],
      "metadata": {
        "id": "bI2v6ivLxgXF"
      },
      "execution_count": 44,
      "outputs": []
    },
    {
      "cell_type": "code",
      "source": [
        "genai.configure(api_key=GOOGLE_API_KEY)"
      ],
      "metadata": {
        "id": "iiqQ9Y5jyWpt"
      },
      "execution_count": 45,
      "outputs": []
    },
    {
      "cell_type": "code",
      "source": [
        "for m in genai.list_models():\n",
        "  if 'generateContent' in m.supported_generation_methods:\n",
        "    print(m.name)"
      ],
      "metadata": {
        "colab": {
          "base_uri": "https://localhost:8080/",
          "height": 146
        },
        "id": "PRp06lhB3orF",
        "outputId": "d44ba828-feb8-4c4b-eb0a-1f64fa540ef1"
      },
      "execution_count": 46,
      "outputs": [
        {
          "output_type": "stream",
          "name": "stdout",
          "text": [
            "models/gemini-1.0-pro\n",
            "models/gemini-1.0-pro-001\n",
            "models/gemini-1.0-pro-latest\n",
            "models/gemini-1.0-pro-vision-latest\n",
            "models/gemini-1.5-pro-latest\n",
            "models/gemini-pro\n",
            "models/gemini-pro-vision\n"
          ]
        }
      ]
    },
    {
      "cell_type": "code",
      "source": [
        "generation_config = {\n",
        "    'candidate_count' : 1,\n",
        "    'temperature' : 0.6,\n",
        "}"
      ],
      "metadata": {
        "id": "87WTF7Z07RTH"
      },
      "execution_count": 47,
      "outputs": []
    },
    {
      "cell_type": "code",
      "source": [
        "safety_settings = {\n",
        "    'HARASSMENT' : 'BLOCK_NONE',\n",
        "    'HATE' : 'BLOCK_NONE',\n",
        "    'SEXUAL': 'BLOCK_NONE',\n",
        "    'DANGEROUS' : 'BLOCK_NONE'\n",
        "}"
      ],
      "metadata": {
        "id": "2rRq_PRx7-xJ"
      },
      "execution_count": 48,
      "outputs": []
    },
    {
      "cell_type": "code",
      "source": [
        "model = genai.GenerativeModel('gemini-1.0-pro', generation_config=generation_config, safety_settings= safety_settings)"
      ],
      "metadata": {
        "id": "c0kUajUi9I2I"
      },
      "execution_count": 49,
      "outputs": []
    },
    {
      "cell_type": "code",
      "source": [
        "chat = model.start_chat(history=[])"
      ],
      "metadata": {
        "id": "ddvP62ij_j7f"
      },
      "execution_count": 57,
      "outputs": []
    },
    {
      "cell_type": "code",
      "source": [
        "prompt = input('Esperando prompt:')\n",
        "\n",
        "while prompt != 'fim':\n",
        "  resposta = chat.send_message(prompt)\n",
        "  print('Resposta: ', resposta.text, '\\n \\n')\n",
        "  prompt = input('Esperando prompt: ...')\n",
        "\n"
      ],
      "metadata": {
        "colab": {
          "base_uri": "https://localhost:8080/",
          "height": 845
        },
        "id": "qZyO7fAmAL7A",
        "outputId": "072d9863-09bf-4e72-f872-0a54c1a3355e"
      },
      "execution_count": 58,
      "outputs": [
        {
          "name": "stdout",
          "output_type": "stream",
          "text": [
            "Esperando prompt:o que quer dizer alura?\n",
            "Resposta:  \"Alura\" pode ter vários significados dependendo do contexto:\n",
            "\n",
            "**Nome próprio:**\n",
            "\n",
            "* Um nome feminino de origem latina, que significa \"dourada\" ou \"radiante\".\n",
            "\n",
            "**Mitologia:**\n",
            "\n",
            "* Na mitologia suméria, Alura era a deusa da luz e do amanhecer.\n",
            "\n",
            "**Tecnologia:**\n",
            "\n",
            "* Alura é um nome de uma plataforma de aprendizado online que oferece cursos em tecnologia e desenvolvimento de software.\n",
            "\n",
            "**Espaço sideral:**\n",
            "\n",
            "* O asteroide 1515 Alura é nomeado em homenagem à deusa suméria da luz.\n",
            "\n",
            "**Outros usos:**\n",
            "\n",
            "* Em algumas culturas, \"alura\" pode se referir a um tipo de tecido ou vestimenta tradicional.\n",
            "* Em alguns idiomas, \"alura\" pode significar \"para cima\" ou \"acima\". \n",
            " \n",
            "\n",
            "Esperando prompt: ...me conte a historia dessa mitologia\n",
            "Resposta:  **Mitologia Suméria de Alura**\n",
            "\n",
            "Na mitologia suméria, Alura era a deusa da luz e do amanhecer. Ela era filha do deus do céu An e da deusa da terra Ki.\n",
            "\n",
            "Alura era representada como uma jovem mulher bonita com longos cabelos dourados e um vestido branco esvoaçante. Ela carregava uma tocha ou uma lâmpada, que simbolizava a luz que ela trazia ao mundo.\n",
            "\n",
            "Todas as manhãs, Alura subia ao céu e abria as portas do leste, permitindo que a luz do sol entrasse no mundo. Ela também era responsável por afastar os demônios e espíritos malignos que temiam a luz.\n",
            "\n",
            "Alura era uma deusa muito popular e amada pelos sumérios. Ela era frequentemente invocada em orações e hinos, pedindo proteção, orientação e bênçãos.\n",
            "\n",
            "De acordo com um mito, Alura foi sequestrada pelo deus do submundo, Nergal. Seu pai, An, ficou furioso e enviou os deuses Ninurta e Enki para resgatá-la. Eles lutaram contra Nergal e libertaram Alura, que voltou para o céu e continuou a trazer luz ao mundo.\n",
            "\n",
            "Alura também era associada à fertilidade e à vida nova. Acreditava-se que ela abençoava as mulheres com filhos e protegia as colheitas.\n",
            "\n",
            "O culto a Alura era difundido na antiga Suméria, e seu nome aparece em muitos textos religiosos e inscrições. Ela era uma das deusas mais importantes do panteão sumério e sua história continua a inspirar pessoas até hoje. \n",
            " \n",
            "\n",
            "Esperando prompt: ...fim\n"
          ]
        }
      ]
    }
  ]
}